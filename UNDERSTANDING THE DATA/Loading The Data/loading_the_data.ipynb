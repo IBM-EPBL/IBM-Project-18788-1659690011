{
  "nbformat": 4,
  "nbformat_minor": 0,
  "metadata": {
    "colab": {
      "provenance": []
    },
    "kernelspec": {
      "name": "python3",
      "display_name": "Python 3"
    },
    "language_info": {
      "name": "python"
    }
  },
  "cells": [
    {
      "cell_type": "markdown",
      "source": [
        "Understanding the Data"
      ],
      "metadata": {
        "id": "fHgn4wK0J6p7"
      }
    },
    {
      "cell_type": "code",
      "source": [
        "#importing the required libraries\n",
        "import numpy as np\n",
        "import tensorflow\n",
        "from tensorflow.keras.datasets import mnist\n",
        "from tensorflow.keras.models import Sequential\n",
        "from tensorflow.keras.layers import Dense, Flatten\n",
        "from tensorflow.keras.layers import Conv2D\n",
        "from keras.optimizers import Adam\n",
        "from keras.utils import np_utils"
      ],
      "metadata": {
        "id": "GEu5XCi6J9VK"
      },
      "execution_count": null,
      "outputs": []
    },
    {
      "cell_type": "markdown",
      "source": [
        "loading the data"
      ],
      "metadata": {
        "id": "7UnSgtszKA20"
      }
    },
    {
      "cell_type": "code",
      "source": [
        "#loading data\n",
        "(X_train,y_train) , (X_test,y_test)=mnist.load_data()"
      ],
      "metadata": {
        "colab": {
          "base_uri": "https://localhost:8080/"
        },
        "id": "HsEnDxnQKEtZ",
        "outputId": "688b04c1-7205-466f-c66e-f14a577504fb"
      },
      "execution_count": null,
      "outputs": [
        {
          "output_type": "stream",
          "name": "stdout",
          "text": [
            "Downloading data from https://storage.googleapis.com/tensorflow/tf-keras-datasets/mnist.npz\n",
            "11490434/11490434 [==============================] - 0s 0us/step\n"
          ]
        }
      ]
    }
  ]
}